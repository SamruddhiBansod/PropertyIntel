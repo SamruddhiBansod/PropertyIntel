{
 "cells": [
  {
   "cell_type": "code",
   "execution_count": null,
   "id": "c45bf6d2-fb79-4b88-97ff-b5d5c8d52818",
   "metadata": {},
   "outputs": [],
   "source": [
    "!pip install pyodbc"
   ]
  },
  {
   "cell_type": "code",
   "execution_count": null,
   "id": "2356a059-b1ec-4a19-a87c-322968671503",
   "metadata": {},
   "outputs": [],
   "source": [
    "!pip install mysql-connector-python"
   ]
  },
  {
   "cell_type": "code",
   "execution_count": null,
   "id": "139d32a9-4042-480e-a4c2-b04335fa32aa",
   "metadata": {},
   "outputs": [],
   "source": [
    "import mysql.connector\n",
    "from mysql.connector import Error\n",
    "import pandas as pd\n",
    "import matplotlib.pyplot as plt\n",
    "import warnings\n",
    "warnings.filterwarnings('ignore')"
   ]
  },
  {
   "cell_type": "code",
   "execution_count": null,
   "id": "202b62f3-4cf8-498a-9d91-aa62a26be727",
   "metadata": {},
   "outputs": [],
   "source": [
    "!pip3 install pymysql\n",
    "!pip3 install ipython-sql\n",
    "!pip3 install mysqlclient"
   ]
  },
  {
   "cell_type": "code",
   "execution_count": null,
   "id": "d9044692-4695-4de2-a6aa-0dc094af63b3",
   "metadata": {},
   "outputs": [],
   "source": [
    "import pymysql\n",
    "import pandas as pd\n",
    "import numpy as np\n",
    "import matplotlib.pyplot as plt\n",
    "import warnings\n",
    "\n",
    "warnings.filterwarnings('ignore')"
   ]
  },
  {
   "cell_type": "code",
   "execution_count": null,
   "id": "c8ac0ef1-611f-4cc8-8f76-83a04099c6f5",
   "metadata": {},
   "outputs": [],
   "source": [
    "# Database connection details\n",
    "db_name = \"<propertyintel>\"\n",
    "db_host = \"localhost\"\n",
    "db_username = \"root\"\n",
    "#db_password = \"<Zayn1227>\""
   ]
  },
  {
   "cell_type": "code",
   "execution_count": null,
   "id": "204d04fd-fedf-4336-9c0b-c28abbcc37eb",
   "metadata": {},
   "outputs": [],
   "source": [
    "import pymysql\n",
    "from getpass import getpass\n",
    "try:\n",
    "    conn = pymysql.connect(\n",
    "        host=\"localhost\",\n",
    "        user=\"root\",\n",
    "        password=getpass('Enter pass: '),\n",
    "        database=\"propertyintel\",\n",
    "        port=int(3306)\n",
    "    )\n",
    "    print(\"Connection successful!\")\n",
    "except Exception as e:\n",
    "    print(\"Error:\", e)"
   ]
  },
  {
   "cell_type": "code",
   "execution_count": null,
   "id": "c4f761a8-bbe9-4384-a5e2-d34fd730cbe9",
   "metadata": {},
   "outputs": [],
   "source": [
    "cursor = conn.cursor()\n",
    "\n",
    "# Execute a query\n",
    "query = \"SELECT * FROM buyer\"  \n",
    "cursor.execute(query)\n",
    "\n",
    "# Fetch and display results\n",
    "results = cursor.fetchall()\n",
    "for row in results:\n",
    "    print(row)\n",
    "\n",
    "# Close the cursor\n",
    "cursor.close()"
   ]
  },
  {
   "cell_type": "code",
   "execution_count": null,
   "id": "175094b2-393c-4ca1-9b3c-5d9e2bb43386",
   "metadata": {},
   "outputs": [],
   "source": [
    "cursor = conn.cursor()\n",
    "\n",
    "# Execute a query\n",
    "query = \"SELECT * FROM amenities\"  \n",
    "cursor.execute(query)\n",
    "\n",
    "# Fetch and display results\n",
    "results = cursor.fetchall()\n",
    "for row in results:\n",
    "    print(row)\n",
    "\n",
    "# Close the cursor\n",
    "cursor.close()"
   ]
  },
  {
   "cell_type": "code",
   "execution_count": null,
   "id": "54756db0-4561-4069-9870-ec043f4fe4f0",
   "metadata": {},
   "outputs": [],
   "source": [
    "cursor = conn.cursor()\n",
    "\n",
    "# Execute a query\n",
    "query = \"SELECT * FROM listing\"  \n",
    "cursor.execute(query)\n",
    "\n",
    "# Fetch and display results\n",
    "results = cursor.fetchall()\n",
    "for row in results:\n",
    "    print(row)\n",
    "\n",
    "# Close the cursor\n",
    "cursor.close()"
   ]
  },
  {
   "cell_type": "code",
   "execution_count": null,
   "id": "6e1fee95-fe0d-4ad8-bfe8-0e8bfce6973d",
   "metadata": {},
   "outputs": [],
   "source": [
    "cursor = conn.cursor()\n",
    "\n",
    "# Execute a query\n",
    "query = \"SELECT * FROM payment\"  \n",
    "cursor.execute(query)\n",
    "\n",
    "# Fetch and display results\n",
    "results = cursor.fetchall()\n",
    "for row in results:\n",
    "    print(row)\n",
    "\n",
    "# Close the cursor\n",
    "cursor.close()"
   ]
  },
  {
   "cell_type": "markdown",
   "id": "bd614b6d-5841-4e90-ba02-19560ce7d75a",
   "metadata": {},
   "source": [
    "# 1. Visualization for User Distribution by Type"
   ]
  },
  {
   "cell_type": "code",
   "execution_count": null,
   "id": "5358d270-c862-481f-8231-7afa7ec8d580",
   "metadata": {},
   "outputs": [],
   "source": [
    "# Query: Count users by type\n",
    "query = \"SELECT user_type, COUNT(*) AS count FROM users GROUP BY user_type\"\n",
    "df_users = pd.read_sql(query, con=conn)\n",
    "\n",
    "# Pie Chart\n",
    "plt.figure(figsize=(8, 8))\n",
    "plt.pie(df_users['count'], labels=df_users['user_type'], autopct='%1.1f%%', startangle=140)\n",
    "plt.title(\"User Distribution by Type\")\n",
    "plt.show()"
   ]
  },
  {
   "cell_type": "markdown",
   "id": "3bcd776e-d63d-4f9a-94dc-e07ec0410605",
   "metadata": {},
   "source": [
    "# 2. Visualization for Status of Property Listings"
   ]
  },
  {
   "cell_type": "code",
   "execution_count": null,
   "id": "d980ee41-33d6-4006-8f3f-6a24d3aafd1a",
   "metadata": {},
   "outputs": [],
   "source": [
    "query = \"SELECT listing_status, COUNT(*) AS count FROM listing GROUP BY listing_status\"\n",
    "df_listing_status = pd.read_sql(query, conn)\n",
    "\n",
    "# Bar Chart\n",
    "df_listing_status.plot(kind='bar', x='listing_status', y='count', legend=False)\n",
    "plt.title(\"Property Listings by Status\")\n",
    "plt.xlabel(\"Listing Status\")\n",
    "plt.ylabel(\"Number of Listings\")\n",
    "plt.show()"
   ]
  },
  {
   "cell_type": "markdown",
   "id": "8dafdf5b-81f1-4917-b7c4-2990aded55fa",
   "metadata": {},
   "source": [
    "# 3. Visualization for Average Property Prices by Location"
   ]
  },
  {
   "cell_type": "code",
   "execution_count": null,
   "id": "598fb6dc-1d05-45af-a552-7d9c33d879e0",
   "metadata": {},
   "outputs": [],
   "source": [
    "query = \"\"\"\n",
    "SELECT location, AVG(price) AS avg_price\n",
    "FROM properties\n",
    "GROUP BY location\n",
    "ORDER BY location\n",
    "\"\"\"\n",
    "df_price_trend = pd.read_sql(query, conn)\n",
    "\n",
    "# Line Chart\n",
    "plt.figure(figsize=(10, 6))\n",
    "plt.plot(df_price_trend['location'], df_price_trend['avg_price'], marker='o', linestyle='-', color='b')\n",
    "plt.title(\"Average Property Prices by Location\")\n",
    "plt.xlabel(\"Location\")\n",
    "plt.ylabel(\"Average Price ($)\")\n",
    "plt.xticks(rotation=45)  # Rotate location names\n",
    "plt.tight_layout()\n",
    "plt.show()"
   ]
  },
  {
   "cell_type": "markdown",
   "id": "c58c7e12-7cbd-481f-97b9-3b86f1f1b09d",
   "metadata": {},
   "source": [
    "# 4. Visualization for Comparison of Property Size vs Price:"
   ]
  },
  {
   "cell_type": "code",
   "execution_count": null,
   "id": "5ae759b4-8d79-4763-b72c-0713ddc03ccc",
   "metadata": {},
   "outputs": [],
   "source": [
    "query = \"SELECT size, price FROM properties\"\n",
    "df_scatter = pd.read_sql(query, conn)\n",
    "\n",
    "# Scatter Plot\n",
    "plt.figure(figsize=(10, 6))\n",
    "plt.scatter(df_scatter['size'], df_scatter['price'], alpha=0.6, color='purple')\n",
    "plt.title(\"Property Size vs Price\")\n",
    "plt.xlabel(\"Size (sq. ft.)\")\n",
    "plt.ylabel(\"Price ($)\")\n",
    "plt.grid(True)\n",
    "plt.show()"
   ]
  },
  {
   "cell_type": "markdown",
   "id": "91f78f43-74ba-4aeb-97ad-cb3c5a54b714",
   "metadata": {},
   "source": [
    "# 5. Visualization for Distribution of Property Prices:"
   ]
  },
  {
   "cell_type": "code",
   "execution_count": null,
   "id": "4198a136-0265-4b81-939d-26b8647802e3",
   "metadata": {},
   "outputs": [],
   "source": [
    "query = \"SELECT price FROM properties\"\n",
    "df_prices = pd.read_sql(query, conn)\n",
    "\n",
    "# Histogram\n",
    "plt.figure(figsize=(10, 6))\n",
    "plt.hist(df_prices['price'], bins=15, color='green', edgecolor='black')\n",
    "plt.title(\"Distribution of Property Prices\")\n",
    "plt.xlabel(\"Price ($)\")\n",
    "plt.ylabel(\"Frequency\")\n",
    "plt.show()"
   ]
  }
 ],
 "metadata": {
  "kernelspec": {
   "display_name": "Python 3 (ipykernel)",
   "language": "python",
   "name": "python3"
  },
  "language_info": {
   "codemirror_mode": {
    "name": "ipython",
    "version": 3
   },
   "file_extension": ".py",
   "mimetype": "text/x-python",
   "name": "python",
   "nbconvert_exporter": "python",
   "pygments_lexer": "ipython3",
   "version": "3.12.4"
  }
 },
 "nbformat": 4,
 "nbformat_minor": 5
}
